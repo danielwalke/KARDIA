{
 "cells": [
  {
   "cell_type": "code",
   "id": "initial_id",
   "metadata": {
    "collapsed": true,
    "ExecuteTime": {
     "end_time": "2025-06-02T05:26:43.251516Z",
     "start_time": "2025-06-02T05:26:38.080698Z"
    }
   },
   "source": [
    "import pandas as pd\n",
    "import ast\n",
    "import numpy as np\n",
    "from sklearn.model_selection import train_test_split\n",
    "from sklearn.linear_model import LogisticRegression\n",
    "from sklearn.ensemble import RandomForestClassifier\n",
    "from sklearn import metrics"
   ],
   "outputs": [],
   "execution_count": 1
  },
  {
   "metadata": {
    "ExecuteTime": {
     "end_time": "2025-06-02T05:26:43.346871Z",
     "start_time": "2025-06-02T05:26:43.252516Z"
    }
   },
   "cell_type": "code",
   "source": [
    "labels = pd.read_csv(\"./data/labels.csv\")\n",
    "embedding_row_ids = pd.read_csv(\"./data/embedding_row_ids.csv\")"
   ],
   "id": "25ead7cf25502a01",
   "outputs": [],
   "execution_count": 2
  },
  {
   "metadata": {
    "ExecuteTime": {
     "end_time": "2025-06-02T12:01:22.834328Z",
     "start_time": "2025-06-02T12:01:22.645553Z"
    }
   },
   "cell_type": "code",
   "source": "cbc = pd.read_csv(\"../pre_processing/lab_train/cbc_data.csv\")\n",
   "id": "28aa690110e0df06",
   "outputs": [],
   "execution_count": 18
  },
  {
   "metadata": {
    "ExecuteTime": {
     "end_time": "2025-06-02T12:03:07.117475Z",
     "start_time": "2025-06-02T12:03:07.104476Z"
    }
   },
   "cell_type": "code",
   "source": "cbc.rename(columns={\"HadmId\": \"hadm_id\"}, inplace=True)",
   "id": "bbf7c41f0dfb01dd",
   "outputs": [],
   "execution_count": 23
  },
  {
   "metadata": {
    "ExecuteTime": {
     "end_time": "2025-06-02T12:03:11.532209Z",
     "start_time": "2025-06-02T12:03:11.512209Z"
    }
   },
   "cell_type": "code",
   "source": "cbc",
   "id": "c7f8c8dd653fc4d7",
   "outputs": [
    {
     "data": {
      "text/plain": [
       "         hadm_id  51222  51250  51265  51279  51301\n",
       "0       20000019    9.2   86.0  183.0   3.09   15.7\n",
       "1       20000024   10.3   98.0  196.0   3.27    4.9\n",
       "2       20000034    9.4   95.0  157.0   3.19   11.2\n",
       "3       20000041    9.5   89.0  229.0   3.16    7.4\n",
       "4       20000057   12.8   98.0  154.0   3.93    8.4\n",
       "...          ...    ...    ...    ...    ...    ...\n",
       "302470  29999670   10.6   91.0  151.0   3.50    4.6\n",
       "302471  29999723   14.3   88.0  234.0   4.54    7.7\n",
       "302472  29999745   14.0   82.0  238.0   4.68    5.5\n",
       "302473  29999809   12.7   89.0  196.0   4.25    7.3\n",
       "302474  29999828   13.0   90.0  209.0   4.49    9.3\n",
       "\n",
       "[302475 rows x 6 columns]"
      ],
      "text/html": [
       "<div>\n",
       "<style scoped>\n",
       "    .dataframe tbody tr th:only-of-type {\n",
       "        vertical-align: middle;\n",
       "    }\n",
       "\n",
       "    .dataframe tbody tr th {\n",
       "        vertical-align: top;\n",
       "    }\n",
       "\n",
       "    .dataframe thead th {\n",
       "        text-align: right;\n",
       "    }\n",
       "</style>\n",
       "<table border=\"1\" class=\"dataframe\">\n",
       "  <thead>\n",
       "    <tr style=\"text-align: right;\">\n",
       "      <th></th>\n",
       "      <th>hadm_id</th>\n",
       "      <th>51222</th>\n",
       "      <th>51250</th>\n",
       "      <th>51265</th>\n",
       "      <th>51279</th>\n",
       "      <th>51301</th>\n",
       "    </tr>\n",
       "  </thead>\n",
       "  <tbody>\n",
       "    <tr>\n",
       "      <th>0</th>\n",
       "      <td>20000019</td>\n",
       "      <td>9.2</td>\n",
       "      <td>86.0</td>\n",
       "      <td>183.0</td>\n",
       "      <td>3.09</td>\n",
       "      <td>15.7</td>\n",
       "    </tr>\n",
       "    <tr>\n",
       "      <th>1</th>\n",
       "      <td>20000024</td>\n",
       "      <td>10.3</td>\n",
       "      <td>98.0</td>\n",
       "      <td>196.0</td>\n",
       "      <td>3.27</td>\n",
       "      <td>4.9</td>\n",
       "    </tr>\n",
       "    <tr>\n",
       "      <th>2</th>\n",
       "      <td>20000034</td>\n",
       "      <td>9.4</td>\n",
       "      <td>95.0</td>\n",
       "      <td>157.0</td>\n",
       "      <td>3.19</td>\n",
       "      <td>11.2</td>\n",
       "    </tr>\n",
       "    <tr>\n",
       "      <th>3</th>\n",
       "      <td>20000041</td>\n",
       "      <td>9.5</td>\n",
       "      <td>89.0</td>\n",
       "      <td>229.0</td>\n",
       "      <td>3.16</td>\n",
       "      <td>7.4</td>\n",
       "    </tr>\n",
       "    <tr>\n",
       "      <th>4</th>\n",
       "      <td>20000057</td>\n",
       "      <td>12.8</td>\n",
       "      <td>98.0</td>\n",
       "      <td>154.0</td>\n",
       "      <td>3.93</td>\n",
       "      <td>8.4</td>\n",
       "    </tr>\n",
       "    <tr>\n",
       "      <th>...</th>\n",
       "      <td>...</td>\n",
       "      <td>...</td>\n",
       "      <td>...</td>\n",
       "      <td>...</td>\n",
       "      <td>...</td>\n",
       "      <td>...</td>\n",
       "    </tr>\n",
       "    <tr>\n",
       "      <th>302470</th>\n",
       "      <td>29999670</td>\n",
       "      <td>10.6</td>\n",
       "      <td>91.0</td>\n",
       "      <td>151.0</td>\n",
       "      <td>3.50</td>\n",
       "      <td>4.6</td>\n",
       "    </tr>\n",
       "    <tr>\n",
       "      <th>302471</th>\n",
       "      <td>29999723</td>\n",
       "      <td>14.3</td>\n",
       "      <td>88.0</td>\n",
       "      <td>234.0</td>\n",
       "      <td>4.54</td>\n",
       "      <td>7.7</td>\n",
       "    </tr>\n",
       "    <tr>\n",
       "      <th>302472</th>\n",
       "      <td>29999745</td>\n",
       "      <td>14.0</td>\n",
       "      <td>82.0</td>\n",
       "      <td>238.0</td>\n",
       "      <td>4.68</td>\n",
       "      <td>5.5</td>\n",
       "    </tr>\n",
       "    <tr>\n",
       "      <th>302473</th>\n",
       "      <td>29999809</td>\n",
       "      <td>12.7</td>\n",
       "      <td>89.0</td>\n",
       "      <td>196.0</td>\n",
       "      <td>4.25</td>\n",
       "      <td>7.3</td>\n",
       "    </tr>\n",
       "    <tr>\n",
       "      <th>302474</th>\n",
       "      <td>29999828</td>\n",
       "      <td>13.0</td>\n",
       "      <td>90.0</td>\n",
       "      <td>209.0</td>\n",
       "      <td>4.49</td>\n",
       "      <td>9.3</td>\n",
       "    </tr>\n",
       "  </tbody>\n",
       "</table>\n",
       "<p>302475 rows × 6 columns</p>\n",
       "</div>"
      ]
     },
     "execution_count": 24,
     "metadata": {},
     "output_type": "execute_result"
    }
   ],
   "execution_count": 24
  },
  {
   "metadata": {
    "ExecuteTime": {
     "end_time": "2025-06-02T05:26:45.540955Z",
     "start_time": "2025-06-02T05:26:43.363017Z"
    }
   },
   "cell_type": "code",
   "source": "embeddings = np.load(\"./data/embedding.npy\")",
   "id": "a531ac38adced2ff",
   "outputs": [],
   "execution_count": 4
  },
  {
   "metadata": {
    "ExecuteTime": {
     "end_time": "2025-06-02T05:26:45.555955Z",
     "start_time": "2025-06-02T05:26:45.541956Z"
    }
   },
   "cell_type": "code",
   "source": "embedding_row_ids[\"idx\"] = embedding_row_ids.index",
   "id": "24ae02c56dd3c49",
   "outputs": [],
   "execution_count": 5
  },
  {
   "metadata": {
    "ExecuteTime": {
     "end_time": "2025-06-02T05:26:45.570955Z",
     "start_time": "2025-06-02T05:26:45.556956Z"
    }
   },
   "cell_type": "code",
   "source": "embedding_row_ids  = embedding_row_ids.rename(columns={\"0\": \"row_id\"})",
   "id": "9f94fdc9557d29b7",
   "outputs": [],
   "execution_count": 6
  },
  {
   "metadata": {
    "ExecuteTime": {
     "end_time": "2025-06-02T12:09:34.014787Z",
     "start_time": "2025-06-02T12:09:33.960274Z"
    }
   },
   "cell_type": "code",
   "source": "merged_embedding_row_ids = pd.merge(embedding_row_ids, labels, on=\"row_id\", how = \"left\")",
   "id": "d721ccc81d3ef1dc",
   "outputs": [],
   "execution_count": 39
  },
  {
   "metadata": {
    "ExecuteTime": {
     "end_time": "2025-06-02T12:09:34.425901Z",
     "start_time": "2025-06-02T12:09:34.388901Z"
    }
   },
   "cell_type": "code",
   "source": [
    "merged_embedding_row_ids = pd.merge(merged_embedding_row_ids, cbc, on=\"hadm_id\", how = \"left\")\n",
    "merged_embedding_row_ids = merged_embedding_row_ids.sort_values(by=[\"idx\"])"
   ],
   "id": "d0cea5f4fcd484f1",
   "outputs": [],
   "execution_count": 40
  },
  {
   "metadata": {
    "ExecuteTime": {
     "end_time": "2025-06-02T12:12:31.793155Z",
     "start_time": "2025-06-02T12:12:31.778134Z"
    }
   },
   "cell_type": "code",
   "source": [
    "cbc_vals = merged_embedding_row_ids.loc[:, ['51222', '51250', '51265', '51279',\n",
    "       '51301']].values\n",
    "non_nan_mask = np.isnan(cbc_vals).sum(-1) == 0"
   ],
   "id": "a7a04ab868800869",
   "outputs": [],
   "execution_count": 54
  },
  {
   "metadata": {
    "ExecuteTime": {
     "end_time": "2025-06-02T12:36:42.340812Z",
     "start_time": "2025-06-02T12:36:41.001087Z"
    }
   },
   "cell_type": "code",
   "source": "X = np.concatenate([embeddings, cbc_vals], axis = 1)",
   "id": "8d2921bebfd72bb1",
   "outputs": [],
   "execution_count": 96
  },
  {
   "metadata": {
    "ExecuteTime": {
     "end_time": "2025-06-02T12:36:42.926455Z",
     "start_time": "2025-06-02T12:36:42.342813Z"
    }
   },
   "cell_type": "code",
   "source": "X, y = X[non_nan_mask], merged_embedding_row_ids[\"label\"].values[non_nan_mask]",
   "id": "212f396558c808ef",
   "outputs": [],
   "execution_count": 97
  },
  {
   "metadata": {
    "ExecuteTime": {
     "end_time": "2025-06-02T12:36:43.416941Z",
     "start_time": "2025-06-02T12:36:42.928455Z"
    }
   },
   "cell_type": "code",
   "source": "train_X, test_X, train_y, test_y = train_test_split(X, y, test_size=0.2, random_state=42)",
   "id": "81a9e23d57679c29",
   "outputs": [],
   "execution_count": 98
  },
  {
   "metadata": {
    "ExecuteTime": {
     "end_time": "2025-06-02T12:36:43.432940Z",
     "start_time": "2025-06-02T12:36:43.418941Z"
    }
   },
   "cell_type": "code",
   "source": [
    "import numpy as np\n",
    "import pandas as pd\n",
    "from sklearn.model_selection import StratifiedKFold\n",
    "from sklearn.metrics import roc_auc_score # Example metric\n",
    "from sklearn.ensemble import RandomForestClassifier # Example model\n",
    "from hyperopt import fmin, tpe, hp, STATUS_OK, Trials, space_eval\n",
    "from hyperopt.pyll import scope # For hp.quniform to ensure integer types\n",
    "\n",
    "def hyperparameter_tuning(train_X, train_y, model_class, space, metric_func, \n",
    "                          max_evals=100, cv_folds=5, random_state_cv=42,\n",
    "                          metric_needs_proba=True):\n",
    "    \"\"\"\n",
    "    Performs hyperparameter tuning for a given scikit-learn model using Hyperopt.\n",
    "\n",
    "    Args:\n",
    "        train_X (pd.DataFrame or np.ndarray): Features for training.\n",
    "        train_y (pd.Series or np.ndarray): Target variable for training.\n",
    "        model_class (class): The scikit-learn model class (e.g., RandomForestClassifier).\n",
    "        space (dict): Hyperopt search space definition.\n",
    "        metric_func (callable): A metric function from sklearn.metrics or compatible.\n",
    "                                 It should accept (y_true, y_pred_or_proba).\n",
    "                                 Assumed that higher is better.\n",
    "        max_evals (int): Maximum number of evaluations for Hyperopt.\n",
    "        cv_folds (int): Number of folds for StratifiedKFold cross-validation.\n",
    "        random_state_cv (int): Random state for StratifiedKFold and Hyperopt's TPE algorithm\n",
    "                               for reproducible results.\n",
    "        metric_needs_proba (bool): True if the metric_func requires probability scores\n",
    "                                   (e.g., roc_auc_score). False if it needs class predictions.\n",
    "\n",
    "    Returns:\n",
    "        tuple: (best_params, trials_object)\n",
    "               best_params (dict): Dictionary of the best hyperparameters found.\n",
    "               trials_object (hyperopt.Trials): Hyperopt trials object containing history.\n",
    "               Returns (None, trials_object) if optimization fails or no successful trial.\n",
    "    \"\"\"\n",
    "\n",
    "    # Ensure train_X and train_y are in a consistent format (e.g. pandas for .iloc)\n",
    "    # If numpy arrays are passed, internal indexing will handle them.\n",
    "    is_pandas = hasattr(train_X, 'iloc') and hasattr(train_y, 'iloc')\n",
    "\n",
    "    def objective(params):\n",
    "        \"\"\"\n",
    "        Objective function for Hyperopt to minimize.\n",
    "        It calculates the negative average cross-validated score.\n",
    "        \"\"\"\n",
    "        # Ensure integer types for parameters that need them, if not already handled by space definition\n",
    "        # For example, n_estimators, max_depth etc. hp.quniform with q=1 and scope.int handles this.\n",
    "        # If params come from hp.choice that result in float for an int param, cast them:\n",
    "        # e.g., if 'max_depth' in params and params['max_depth'] is not None:\n",
    "        #    params['max_depth'] = int(params['max_depth'])\n",
    "\n",
    "        current_model_params = params.copy()\n",
    "        \n",
    "        # Example: If space defines 'max_depth_options' which is a choice,\n",
    "        # you might need to unpack it here into 'max_depth'.\n",
    "        # For this generic function, we assume `params` keys directly match model args.\n",
    "        print(current_model_params)\n",
    "        model = model_class(**current_model_params)\n",
    "        \n",
    "        skf = StratifiedKFold(n_splits=cv_folds, shuffle=True, random_state=random_state_cv)\n",
    "        scores = []\n",
    "\n",
    "        for fold, (train_idx, val_idx) in enumerate(skf.split(train_X, train_y)):\n",
    "            if is_pandas:\n",
    "                X_train_fold, X_val_fold = train_X.iloc[train_idx], train_X.iloc[val_idx]\n",
    "                y_train_fold, y_val_fold = train_y.iloc[train_idx], train_y.iloc[val_idx]\n",
    "            else: # Assuming numpy arrays\n",
    "                X_train_fold, X_val_fold = train_X[train_idx], train_X[val_idx]\n",
    "                y_train_fold, y_val_fold = train_y[train_idx], train_y[val_idx]\n",
    "            \n",
    "            try:\n",
    "                model.fit(X_train_fold, y_train_fold)\n",
    "                \n",
    "                if metric_needs_proba:\n",
    "                    if hasattr(model, \"predict_proba\"):\n",
    "                        # Probability of the positive class (usually class 1)\n",
    "                        preds = model.predict_proba(X_val_fold)[:, 1] \n",
    "                    else:\n",
    "                        # Fallback or error if model can't predict_proba but metric needs it\n",
    "                        print(f\"Warning: Metric {metric_func.__name__} needs probabilities, \"\n",
    "                              f\"but model {model_class.__name__} may lack predict_proba. Trying predict().\")\n",
    "                        preds = model.predict(X_val_fold) # Or raise an error\n",
    "                else:\n",
    "                    preds = model.predict(X_val_fold)\n",
    "                    \n",
    "                score = metric_func(y_val_fold, preds)\n",
    "                print(score)\n",
    "                scores.append(score)\n",
    "            except ValueError as ve: # Catches errors like \"Only one class present in y_true.\" for roc_auc\n",
    "                print(f\"ValueError in fold {fold+1} with params {params}: {ve}. Skipping fold.\")\n",
    "                # Optionally, append a very bad score or handle as per strategy\n",
    "            except Exception as e:\n",
    "                print(f\"Error during model training/prediction in fold {fold+1} with params {params}: {e}\")\n",
    "                # Return a very bad score to penalize these parameters for this trial\n",
    "                return {'loss': np.inf, 'status': STATUS_OK, 'params': params, 'error': str(e)} \n",
    "\n",
    "        if not scores: # All folds failed for this set of params\n",
    "             print(f\"All CV folds failed for params: {params}\")\n",
    "             return {'loss': np.inf, 'status': STATUS_OK, 'params': params, 'error': 'All CV folds failed'}\n",
    "\n",
    "        avg_score = np.mean(scores)\n",
    "        \n",
    "        # Hyperopt minimizes, so return negative of a score to be maximized\n",
    "        return {'loss': -avg_score, 'status': STATUS_OK, 'params': params, 'mean_cv_score': avg_score}\n",
    "\n",
    "    trials = Trials()\n",
    "    \n",
    "    # np.random.default_rng is preferred for newer NumPy versions for reproducibility with Hyperopt\n",
    "    rstate = np.random.default_rng(random_state_cv)\n",
    "\n",
    "    try:\n",
    "        best_params_from_fmin = fmin(\n",
    "            fn=objective,\n",
    "            space=space,\n",
    "            algo=tpe.suggest,\n",
    "            max_evals=max_evals,\n",
    "            trials=trials,\n",
    "            rstate=rstate,\n",
    "            return_argmin=True # fmin returns the actual arg values, not just indices for hp.choice\n",
    "        )\n",
    "    except Exception as e:\n",
    "        print(f\"An error occurred during hyperopt.fmin: {e}\")\n",
    "        return None, trials\n",
    "\n",
    "    # fmin returns the best parameters. For hp.choice, it returns the actual values.\n",
    "    # The trials object also stores the best trial information.\n",
    "    if trials.best_trial and trials.best_trial['result']['status'] == STATUS_OK:\n",
    "        # The 'params' in best_trial['result'] are the actual parameters used.\n",
    "        best_actual_params = trials.best_trial['result']['params'] #space_eval(trials.best_trial['result']['params'])\n",
    "        best_score = trials.best_trial['result']['mean_cv_score'] # Or -trials.best_trial['result']['loss']\n",
    "        \n",
    "        print(f\"\\nHyperparameter tuning complete.\")\n",
    "        print(f\"Best average {metric_func.__name__} achieved: {best_score:.5f}\")\n",
    "        print(f\"Best parameters found: {best_actual_params}\")\n",
    "        return best_actual_params, trials\n",
    "    else:\n",
    "        print(\"\\nHyperparameter tuning finished, but no successful trial was found or best trial had issues.\")\n",
    "        # best_params_from_fmin might still hold something if fmin completed but trials object is odd.\n",
    "        # However, relying on trials.best_trial is generally safer.\n",
    "        if best_params_from_fmin:\n",
    "            print(f\"fmin suggested parameters: {best_params_from_fmin} (may not correspond to a valid trial if errors occurred)\")\n",
    "        return None, trials "
   ],
   "id": "c4da1b4522cb747a",
   "outputs": [],
   "execution_count": 99
  },
  {
   "metadata": {
    "ExecuteTime": {
     "end_time": "2025-06-02T13:50:05.363893Z",
     "start_time": "2025-06-02T12:36:43.433941Z"
    }
   },
   "cell_type": "code",
   "source": [
    "rf_space_example = {\n",
    "        'n_estimators': scope.int(hp.quniform('n_estimators', 50, 250, 25)), # e.g., 50, 75, ..., 250\n",
    "        'max_depth': hp.choice('max_depth', [None] + list(range(5, 21, 5))),  # e.g., [None, 5, 10, 15, 20]\n",
    "        'min_samples_split': scope.int(hp.quniform('min_samples_split', 2, 15, 1)), # e.g., 2, 3, ..., 15\n",
    "        'min_samples_leaf': scope.int(hp.quniform('min_samples_leaf', 1, 15, 1)),   # e.g., 1, 2, ..., 15\n",
    "        'criterion': hp.choice('criterion', ['gini', 'entropy']),\n",
    "        'max_features': hp.choice('max_features', ['sqrt', 'log2']), # 'auto' is sqrt for RF\n",
    "        'class_weight': hp.choice('class_weight', [None, 'balanced', 'balanced_subsample']),\n",
    "        'random_state': 42,  # Fixed for reproducibility of the RF model itself during evaluations\n",
    "    \"n_jobs\": 5\n",
    "}\n",
    "\n",
    "print(\"Starting hyperparameter tuning for RandomForestClassifier...\")\n",
    "# Using roc_auc_score which needs probabilities\n",
    "best_rf_params, trials_rf = hyperparameter_tuning(\n",
    "    train_X=train_X[:30000],\n",
    "    train_y=train_y[:30000],\n",
    "    model_class=RandomForestClassifier,\n",
    "    space=rf_space_example,\n",
    "    metric_func=roc_auc_score,\n",
    "    metric_needs_proba=True, # roc_auc_score needs probabilities\n",
    "    max_evals=50,  # Reduced for quicker example run; increase for real tasks (e.g., 50-200)\n",
    "    cv_folds=3     # Reduced for quicker example run; typically 5 or 10\n",
    ")"
   ],
   "id": "cc132f6fac7f1e8e",
   "outputs": [
    {
     "name": "stdout",
     "output_type": "stream",
     "text": [
      "Starting hyperparameter tuning for RandomForestClassifier...\n",
      "{'class_weight': 'balanced_subsample', 'criterion': 'gini', 'max_depth': 15, 'max_features': 'sqrt', 'min_samples_leaf': 13, 'min_samples_split': 10, 'n_estimators': 225, 'n_jobs': 5, 'random_state': 42}\n",
      "0.7451471466933464                                    \n",
      "0.7462657498983877                                    \n",
      "0.7393729921827175                                    \n",
      "{'class_weight': 'balanced', 'criterion': 'entropy', 'max_depth': None, 'max_features': 'log2', 'min_samples_leaf': 13, 'min_samples_split': 10, 'n_estimators': 100, 'n_jobs': 5, 'random_state': 42}\n",
      "0.7048895900423471                                                                  \n",
      "0.702172113777926                                                                   \n",
      "0.7060742939796631                                                                  \n",
      "{'class_weight': 'balanced', 'criterion': 'entropy', 'max_depth': None, 'max_features': 'log2', 'min_samples_leaf': 10, 'min_samples_split': 3, 'n_estimators': 75, 'n_jobs': 5, 'random_state': 42}\n",
      "0.6902109626588017                                                               \n",
      "0.6961229282391727                                                               \n",
      "0.7148286752875276                                                               \n",
      "{'class_weight': None, 'criterion': 'entropy', 'max_depth': 15, 'max_features': 'sqrt', 'min_samples_leaf': 9, 'min_samples_split': 5, 'n_estimators': 125, 'n_jobs': 5, 'random_state': 42}\n",
      "0.7264580923299254                                                               \n",
      "0.7365656884099507                                                               \n",
      "0.7361234296363313                                                               \n",
      "{'class_weight': 'balanced', 'criterion': 'gini', 'max_depth': 5, 'max_features': 'sqrt', 'min_samples_leaf': 5, 'min_samples_split': 3, 'n_estimators': 150, 'n_jobs': 5, 'random_state': 42}\n",
      "0.7227218881466274                                                               \n",
      "0.7324267262791853                                                               \n",
      "0.7240860063600068                                                               \n",
      "{'class_weight': 'balanced_subsample', 'criterion': 'gini', 'max_depth': 15, 'max_features': 'log2', 'min_samples_leaf': 7, 'min_samples_split': 4, 'n_estimators': 200, 'n_jobs': 5, 'random_state': 42}\n",
      "0.6956172553229186                                                               \n",
      "0.7120521679016463                                                               \n",
      "0.7119785905054958                                                               \n",
      "{'class_weight': 'balanced', 'criterion': 'entropy', 'max_depth': 20, 'max_features': 'sqrt', 'min_samples_leaf': 2, 'min_samples_split': 15, 'n_estimators': 200, 'n_jobs': 5, 'random_state': 42}\n",
      "0.7367771634723946                                                               \n",
      "0.7351997853115587                                                               \n",
      "0.7358448678429609                                                               \n",
      "{'class_weight': None, 'criterion': 'gini', 'max_depth': 5, 'max_features': 'sqrt', 'min_samples_leaf': 11, 'min_samples_split': 13, 'n_estimators': 75, 'n_jobs': 5, 'random_state': 42}\n",
      "0.7061208786246044                                                                 \n",
      "0.7123355097460908                                                                 \n",
      "0.7046072668764999                                                                 \n",
      "{'class_weight': 'balanced_subsample', 'criterion': 'entropy', 'max_depth': 10, 'max_features': 'sqrt', 'min_samples_leaf': 2, 'min_samples_split': 12, 'n_estimators': 200, 'n_jobs': 5, 'random_state': 42}\n",
      "0.7175585529721149                                                               \n",
      "0.7341979927672924                                                               \n",
      "0.7308512332670607                                                               \n",
      "{'class_weight': 'balanced', 'criterion': 'gini', 'max_depth': 15, 'max_features': 'sqrt', 'min_samples_leaf': 7, 'min_samples_split': 8, 'n_estimators': 125, 'n_jobs': 5, 'random_state': 42}\n",
      "0.7226098541299733                                                                 \n",
      "0.7383597525177257                                                                 \n",
      "0.7393320367731904                                                                 \n",
      "{'class_weight': 'balanced_subsample', 'criterion': 'entropy', 'max_depth': 20, 'max_features': 'sqrt', 'min_samples_leaf': 5, 'min_samples_split': 3, 'n_estimators': 50, 'n_jobs': 5, 'random_state': 42}\n",
      "0.708754980737097                                                                 \n",
      "0.7087686593088978                                                                \n",
      "0.7064414841460309                                                                \n",
      "{'class_weight': None, 'criterion': 'gini', 'max_depth': 5, 'max_features': 'log2', 'min_samples_leaf': 2, 'min_samples_split': 10, 'n_estimators': 200, 'n_jobs': 5, 'random_state': 42}\n",
      "0.6652792686697305                                                                \n",
      "0.6834313848099243                                                                \n",
      "0.6624554826616682                                                                \n",
      "{'class_weight': 'balanced_subsample', 'criterion': 'entropy', 'max_depth': 5, 'max_features': 'sqrt', 'min_samples_leaf': 10, 'min_samples_split': 11, 'n_estimators': 100, 'n_jobs': 5, 'random_state': 42}\n",
      "0.7111589354510368                                                                \n",
      "0.7269865628658476                                                                \n",
      "0.719481448174613                                                                 \n",
      "{'class_weight': 'balanced_subsample', 'criterion': 'entropy', 'max_depth': 20, 'max_features': 'log2', 'min_samples_leaf': 2, 'min_samples_split': 8, 'n_estimators': 75, 'n_jobs': 5, 'random_state': 42}\n",
      "0.676833427997735                                                                 \n",
      "0.6870980019731883                                                                \n",
      "0.6914023977333672                                                                \n",
      "{'class_weight': None, 'criterion': 'entropy', 'max_depth': 20, 'max_features': 'log2', 'min_samples_leaf': 1, 'min_samples_split': 14, 'n_estimators': 100, 'n_jobs': 5, 'random_state': 42}\n",
      "0.6657433630701142                                                                \n",
      "0.6676589059226913                                                                \n",
      "0.668972810158675                                                                 \n",
      "{'class_weight': 'balanced_subsample', 'criterion': 'gini', 'max_depth': 5, 'max_features': 'sqrt', 'min_samples_leaf': 4, 'min_samples_split': 15, 'n_estimators': 225, 'n_jobs': 5, 'random_state': 42}\n",
      "0.719987693627783                                                                 \n",
      "0.7337585415081691                                                                \n",
      "0.7230029633080702                                                                \n",
      "{'class_weight': None, 'criterion': 'gini', 'max_depth': 10, 'max_features': 'log2', 'min_samples_leaf': 12, 'min_samples_split': 13, 'n_estimators': 225, 'n_jobs': 5, 'random_state': 42}\n",
      "0.6749630461441192                                                                \n",
      "0.6875799002289315                                                                \n",
      "0.6697206255992979                                                                \n",
      "{'class_weight': None, 'criterion': 'entropy', 'max_depth': 20, 'max_features': 'sqrt', 'min_samples_leaf': 6, 'min_samples_split': 3, 'n_estimators': 125, 'n_jobs': 5, 'random_state': 42}\n",
      "0.7204044558273321                                                                \n",
      "0.7235910202564451                                                                \n",
      "0.7295071807401228                                                                \n",
      "{'class_weight': 'balanced', 'criterion': 'entropy', 'max_depth': 10, 'max_features': 'log2', 'min_samples_leaf': 3, 'min_samples_split': 13, 'n_estimators': 100, 'n_jobs': 5, 'random_state': 42}\n",
      "0.6831588989748453                                                                \n",
      "0.6871000646149678                                                                \n",
      "0.6920755616471009                                                                \n",
      "{'class_weight': None, 'criterion': 'gini', 'max_depth': 5, 'max_features': 'sqrt', 'min_samples_leaf': 15, 'min_samples_split': 11, 'n_estimators': 150, 'n_jobs': 5, 'random_state': 42}\n",
      "0.7177187876703525                                                                \n",
      "0.7240593485004811                                                                \n",
      "0.7194428764132597                                                                \n",
      "{'class_weight': 'balanced', 'criterion': 'gini', 'max_depth': 15, 'max_features': 'sqrt', 'min_samples_leaf': 15, 'min_samples_split': 6, 'n_estimators': 250, 'n_jobs': 5, 'random_state': 42}\n",
      "0.7469607516179796                                                                \n",
      "0.7546630902629413                                                                \n",
      "0.7506400637084149                                                                \n",
      "{'class_weight': 'balanced_subsample', 'criterion': 'gini', 'max_depth': 15, 'max_features': 'sqrt', 'min_samples_leaf': 15, 'min_samples_split': 7, 'n_estimators': 250, 'n_jobs': 5, 'random_state': 42}\n",
      "0.7399449470053047                                                                \n",
      "0.7575453607495336                                                                \n",
      "0.7474071866992433                                                                \n",
      "{'class_weight': 'balanced', 'criterion': 'gini', 'max_depth': 15, 'max_features': 'sqrt', 'min_samples_leaf': 14, 'min_samples_split': 6, 'n_estimators': 250, 'n_jobs': 5, 'random_state': 42}\n",
      "0.7422542373175757                                                                \n",
      "0.7528683747946043                                                                \n",
      "0.7497104409207384                                                                \n",
      "{'class_weight': 'balanced_subsample', 'criterion': 'gini', 'max_depth': 15, 'max_features': 'sqrt', 'min_samples_leaf': 15, 'min_samples_split': 6, 'n_estimators': 250, 'n_jobs': 5, 'random_state': 42}\n",
      "0.7399449470053047                                                                 \n",
      "0.7575453607495336                                                                 \n",
      "0.7474071866992433                                                                 \n",
      "{'class_weight': 'balanced', 'criterion': 'gini', 'max_depth': 15, 'max_features': 'sqrt', 'min_samples_leaf': 13, 'min_samples_split': 7, 'n_estimators': 175, 'n_jobs': 5, 'random_state': 42}\n",
      "0.742966174411778                                                                  \n",
      "0.7466860945810275                                                                 \n",
      "0.7479010352617408                                                                 \n",
      "{'class_weight': 'balanced_subsample', 'criterion': 'gini', 'max_depth': 15, 'max_features': 'sqrt', 'min_samples_leaf': 15, 'min_samples_split': 5, 'n_estimators': 250, 'n_jobs': 5, 'random_state': 42}\n",
      "0.7399449470053047                                                                 \n",
      "0.7575453607495336                                                                 \n",
      "0.7474071866992433                                                                 \n",
      "{'class_weight': 'balanced', 'criterion': 'gini', 'max_depth': 15, 'max_features': 'sqrt', 'min_samples_leaf': 14, 'min_samples_split': 5, 'n_estimators': 175, 'n_jobs': 5, 'random_state': 42}\n",
      "0.7352406039067738                                                                 \n",
      "0.7465638559155698                                                                 \n",
      "0.7465102849001306                                                                 \n",
      "{'class_weight': 'balanced_subsample', 'criterion': 'gini', 'max_depth': None, 'max_features': 'sqrt', 'min_samples_leaf': 11, 'min_samples_split': 5, 'n_estimators': 225, 'n_jobs': 5, 'random_state': 42}\n",
      "0.7486225895316805                                                                 \n",
      "0.7593144560357675                                                                 \n",
      "0.7503044027065241                                                                 \n",
      "{'class_weight': 'balanced', 'criterion': 'gini', 'max_depth': None, 'max_features': 'sqrt', 'min_samples_leaf': 12, 'min_samples_split': 9, 'n_estimators': 225, 'n_jobs': 5, 'random_state': 42}\n",
      "0.741552504872177                                                                  \n",
      "0.7568017241079835                                                                 \n",
      "0.751615192506677                                                                  \n",
      "{'class_weight': 'balanced_subsample', 'criterion': 'gini', 'max_depth': None, 'max_features': 'sqrt', 'min_samples_leaf': 9, 'min_samples_split': 4, 'n_estimators': 175, 'n_jobs': 5, 'random_state': 42}\n",
      "0.7353341827075062                                                                 \n",
      "0.7510172080775658                                                                 \n",
      "0.7358770470933035                                                                 \n",
      "{'class_weight': 'balanced', 'criterion': 'gini', 'max_depth': None, 'max_features': 'sqrt', 'min_samples_leaf': 11, 'min_samples_split': 7, 'n_estimators': 225, 'n_jobs': 5, 'random_state': 42}\n",
      "0.7435986455174235                                                                 \n",
      "0.7455479505591279                                                                 \n",
      "0.7481573857880395                                                                 \n",
      "{'class_weight': 'balanced_subsample', 'criterion': 'gini', 'max_depth': None, 'max_features': 'sqrt', 'min_samples_leaf': 13, 'min_samples_split': 9, 'n_estimators': 225, 'n_jobs': 5, 'random_state': 42}\n",
      "0.7494079132491951                                                                 \n",
      "0.7567498323832152                                                                 \n",
      "0.7496873628725127                                                                 \n",
      "{'class_weight': 'balanced_subsample', 'criterion': 'gini', 'max_depth': None, 'max_features': 'sqrt', 'min_samples_leaf': 8, 'min_samples_split': 9, 'n_estimators': 225, 'n_jobs': 5, 'random_state': 42}\n",
      "0.7351622235191534                                                                 \n",
      "0.745023822426952                                                                  \n",
      "0.7521965859657297                                                                 \n",
      "{'class_weight': 'balanced_subsample', 'criterion': 'gini', 'max_depth': None, 'max_features': 'sqrt', 'min_samples_leaf': 13, 'min_samples_split': 2, 'n_estimators': 175, 'n_jobs': 5, 'random_state': 42}\n",
      "0.7414760785662425                                                                 \n",
      "0.749743363938595                                                                  \n",
      "0.7413011468598145                                                                 \n",
      "{'class_weight': 'balanced_subsample', 'criterion': 'gini', 'max_depth': None, 'max_features': 'log2', 'min_samples_leaf': 11, 'min_samples_split': 10, 'n_estimators': 200, 'n_jobs': 5, 'random_state': 42}\n",
      "0.7162949134819477                                                                 \n",
      "0.7269741870151706                                                                 \n",
      "0.7214906468896101                                                                 \n",
      "{'class_weight': 'balanced_subsample', 'criterion': 'gini', 'max_depth': None, 'max_features': 'sqrt', 'min_samples_leaf': 9, 'min_samples_split': 9, 'n_estimators': 150, 'n_jobs': 5, 'random_state': 42}\n",
      "0.7348591237376632                                                                \n",
      "0.7481292924661033                                                                \n",
      "0.7327362655817455                                                                \n",
      "{'class_weight': 'balanced_subsample', 'criterion': 'gini', 'max_depth': None, 'max_features': 'sqrt', 'min_samples_leaf': 12, 'min_samples_split': 2, 'n_estimators': 200, 'n_jobs': 5, 'random_state': 42}\n",
      "0.7404063274033468                                                                \n",
      "0.7447050899919752                                                                \n",
      "0.7575181888607788                                                                \n",
      "{'class_weight': 'balanced_subsample', 'criterion': 'gini', 'max_depth': None, 'max_features': 'log2', 'min_samples_leaf': 10, 'min_samples_split': 4, 'n_estimators': 175, 'n_jobs': 5, 'random_state': 42}\n",
      "0.706792865604341                                                                  \n",
      "0.7220307945904071                                                                 \n",
      "0.7138124827320942                                                                 \n",
      "{'class_weight': 'balanced_subsample', 'criterion': 'gini', 'max_depth': None, 'max_features': 'sqrt', 'min_samples_leaf': 14, 'min_samples_split': 8, 'n_estimators': 225, 'n_jobs': 5, 'random_state': 42}\n",
      "0.7363474826217002                                                                \n",
      "0.751860502885093                                                                 \n",
      "0.7466253500983255                                                                \n",
      "{'class_weight': 'balanced_subsample', 'criterion': 'gini', 'max_depth': 10, 'max_features': 'sqrt', 'min_samples_leaf': 10, 'min_samples_split': 11, 'n_estimators': 200, 'n_jobs': 5, 'random_state': 42}\n",
      "0.7280469778606887                                                                \n",
      "0.7399230178663859                                                                \n",
      "0.7354620756158209                                                                \n",
      "{'class_weight': 'balanced_subsample', 'criterion': 'gini', 'max_depth': None, 'max_features': 'sqrt', 'min_samples_leaf': 9, 'min_samples_split': 12, 'n_estimators': 250, 'n_jobs': 5, 'random_state': 42}\n",
      "0.7447320128952022                                                                 \n",
      "0.7565179480231641                                                                 \n",
      "0.7442687888358588                                                                 \n",
      "{'class_weight': 'balanced_subsample', 'criterion': 'entropy', 'max_depth': None, 'max_features': 'log2', 'min_samples_leaf': 8, 'min_samples_split': 7, 'n_estimators': 50, 'n_jobs': 5, 'random_state': 42}\n",
      "0.6721554650019628                                                                   \n",
      "0.6696346996272481                                                                   \n",
      "0.6777645714038063                                                                   \n",
      "{'class_weight': 'balanced_subsample', 'criterion': 'gini', 'max_depth': None, 'max_features': 'sqrt', 'min_samples_leaf': 13, 'min_samples_split': 6, 'n_estimators': 150, 'n_jobs': 5, 'random_state': 42}\n",
      "0.7413277854783071                                                                  \n",
      "0.7494268027054911                                                                  \n",
      "0.7375151551267398                                                                  \n",
      "{'class_weight': None, 'criterion': 'entropy', 'max_depth': 10, 'max_features': 'sqrt', 'min_samples_leaf': 7, 'min_samples_split': 5, 'n_estimators': 225, 'n_jobs': 5, 'random_state': 42}\n",
      "0.7391700450567812                                                                  \n",
      "0.7463621512615551                                                                  \n",
      "0.7442462525258545                                                                  \n",
      "{'class_weight': 'balanced_subsample', 'criterion': 'gini', 'max_depth': 20, 'max_features': 'sqrt', 'min_samples_leaf': 11, 'min_samples_split': 10, 'n_estimators': 200, 'n_jobs': 5, 'random_state': 42}\n",
      "0.7427590417530805                                                                   \n",
      "0.7467021614748888                                                                   \n",
      "0.7492695743562795                                                                   \n",
      "{'class_weight': 'balanced_subsample', 'criterion': 'gini', 'max_depth': None, 'max_features': 'log2', 'min_samples_leaf': 12, 'min_samples_split': 8, 'n_estimators': 175, 'n_jobs': 5, 'random_state': 42}\n",
      "0.7041149052140111                                                                   \n",
      "0.7285676320698675                                                                   \n",
      "0.715443114778077                                                                    \n",
      "{'class_weight': None, 'criterion': 'entropy', 'max_depth': 5, 'max_features': 'sqrt', 'min_samples_leaf': 10, 'min_samples_split': 14, 'n_estimators': 125, 'n_jobs': 5, 'random_state': 42}\n",
      "0.7280610906728641                                                                  \n",
      "0.7454667476090725                                                                  \n",
      "0.7415483961839958                                                                  \n",
      "{'class_weight': 'balanced_subsample', 'criterion': 'gini', 'max_depth': None, 'max_features': 'log2', 'min_samples_leaf': 6, 'min_samples_split': 12, 'n_estimators': 250, 'n_jobs': 5, 'random_state': 42}\n",
      "0.6979860365665135                                                                  \n",
      "0.7208933019290695                                                                  \n",
      "0.7177723724341923                                                                  \n",
      "{'class_weight': None, 'criterion': 'entropy', 'max_depth': 20, 'max_features': 'sqrt', 'min_samples_leaf': 13, 'min_samples_split': 3, 'n_estimators': 200, 'n_jobs': 5, 'random_state': 42}\n",
      "0.737323220743489                                                                   \n",
      "0.7498456275468197                                                                  \n",
      "0.7399271903830632                                                                  \n",
      "{'class_weight': 'balanced_subsample', 'criterion': 'gini', 'max_depth': 10, 'max_features': 'sqrt', 'min_samples_leaf': 14, 'min_samples_split': 4, 'n_estimators': 225, 'n_jobs': 5, 'random_state': 42}\n",
      "0.7313346117369962                                                                  \n",
      "0.7477834200077121                                                                  \n",
      "0.7385059943334183                                                                  \n",
      "100%|██████████| 50/50 [1:13:21<00:00, 88.04s/trial, best loss: -0.7527471494246574] \n",
      "\n",
      "Hyperparameter tuning complete.\n",
      "Best average roc_auc_score achieved: 0.75275\n",
      "Best parameters found: {'class_weight': 'balanced_subsample', 'criterion': 'gini', 'max_depth': None, 'max_features': 'sqrt', 'min_samples_leaf': 11, 'min_samples_split': 5, 'n_estimators': 225, 'n_jobs': 5, 'random_state': 42}\n"
     ]
    }
   ],
   "execution_count": 100
  },
  {
   "metadata": {
    "ExecuteTime": {
     "end_time": "2025-06-02T12:35:53.470805Z",
     "start_time": "2025-06-02T12:35:52.156527Z"
    }
   },
   "cell_type": "code",
   "source": [
    "model = RandomForestClassifier(**{'class_weight': None, 'criterion': 'gini', 'max_depth': 10, 'max_features': 'log2', 'min_samples_leaf': 12, 'min_samples_split': 13, 'n_estimators': 175, 'n_jobs': 5, 'random_state': 42})\n",
    "#{'class_weight': 'balanced', 'criterion': 'entropy', 'max_depth': None, 'max_features': 'sqrt', 'min_samples_leaf': 11, 'min_samples_split': 5, 'n_estimators': 175, 'n_jobs': 5, 'random_state': 42}) #best_rf_params\n",
    "model.fit(train_X[:50_000], train_y[:50_000])\n",
    "predictions = model.predict(test_X)\n",
    "print(metrics.classification_report(test_y, predictions))"
   ],
   "id": "725d1954b3dddc7d",
   "outputs": [
    {
     "name": "stdout",
     "output_type": "stream",
     "text": [
      "              precision    recall  f1-score   support\n",
      "\n",
      "           0       0.95      1.00      0.97     12037\n",
      "           1       0.33      0.00      0.00       638\n",
      "\n",
      "    accuracy                           0.95     12675\n",
      "   macro avg       0.64      0.50      0.49     12675\n",
      "weighted avg       0.92      0.95      0.93     12675\n",
      "\n"
     ]
    }
   ],
   "execution_count": 94
  },
  {
   "metadata": {
    "ExecuteTime": {
     "end_time": "2025-06-02T12:35:55.146858Z",
     "start_time": "2025-06-02T12:35:55.065107Z"
    }
   },
   "cell_type": "code",
   "source": "metrics.roc_auc_score(test_y, model.predict_proba(test_X)[:, 1]), metrics.average_precision_score(test_y, model.predict_proba(test_X)[:, 1])",
   "id": "54758181a8bb790e",
   "outputs": [
    {
     "data": {
      "text/plain": [
       "(np.float64(0.7748375372382387), np.float64(0.1801381697292772))"
      ]
     },
     "execution_count": 95,
     "metadata": {},
     "output_type": "execute_result"
    }
   ],
   "execution_count": 95
  },
  {
   "metadata": {
    "ExecuteTime": {
     "end_time": "2025-06-02T12:31:45.396337Z",
     "start_time": "2025-06-02T12:31:45.372336Z"
    }
   },
   "cell_type": "code",
   "source": [
    "from sklearn.metrics import roc_curve, f1_score, precision_recall_curve\n",
    "\n",
    "\n",
    "def estimate_best_threshold(model, X_val, y_val, num_thresholds=100, metric='f1'):\n",
    "    \"\"\"\n",
    "    Estimates the best probability threshold for a scikit-learn model on an imbalanced dataset.\n",
    "\n",
    "    The function iterates through a range of possible thresholds for the predicted\n",
    "    probabilities and selects the threshold that maximizes the chosen metric.\n",
    "\n",
    "    Args:\n",
    "        model: A trained scikit-learn classifier with a `predict_proba` method.\n",
    "        X_val: Validation features (numpy array or pandas DataFrame).\n",
    "        y_val: True labels for the validation set (numpy array or pandas Series).\n",
    "        num_thresholds (int): The number of threshold values to evaluate between 0 and 1.\n",
    "                              This is used for 'f1' and 'gmean' metrics.\n",
    "                              It's ignored if 'pr_curve' or 'roc_curve' is used.\n",
    "        metric (str): The metric to optimize. Options:\n",
    "                      'f1': F1-score (default)\n",
    "                      'gmean': Geometric Mean of sensitivity and specificity\n",
    "                      'pr_curve': Uses precision-recall curve to find the threshold that\n",
    "                                  maximizes F1-score.\n",
    "                      'roc_curve': Uses ROC curve to find the threshold that maximizes\n",
    "                                   Youden's J statistic (TPR - FPR).\n",
    "\n",
    "    Returns:\n",
    "        float: The threshold value that maximizes the chosen metric.\n",
    "        float: The best score achieved for the chosen metric.\n",
    "               For 'roc_curve', this is the Youden's J statistic.\n",
    "\n",
    "    Raises:\n",
    "        ValueError: If the model does not have a `predict_proba` method or\n",
    "                    if an unsupported metric is chosen.\n",
    "    \"\"\"\n",
    "    # Ensure the model has predict_proba\n",
    "    if not hasattr(model, \"predict_proba\"):\n",
    "        raise ValueError(\"Model does not have a predict_proba method.\")\n",
    "\n",
    "    # Get probability predictions for the positive class\n",
    "    # Assumes the positive class is the second column (index 1)\n",
    "    y_pred_proba = model.predict_proba(X_val)[:, 1]\n",
    "\n",
    "    best_threshold = 0.5  # Default threshold\n",
    "    best_score = -1.0     # Initialize with a value that will be beaten\n",
    "\n",
    "    if metric == 'f1':\n",
    "        thresholds = np.linspace(0.0, 1.0, num_thresholds + 1) # +1 to include 0.0 and 1.0\n",
    "        for threshold in thresholds:\n",
    "            # Convert probabilities to binary predictions based on the current threshold\n",
    "            y_pred_binary = (y_pred_proba >= threshold).astype(int)\n",
    "            # Calculate F1 score\n",
    "            score = f1_score(y_val, y_pred_binary)\n",
    "            if score > best_score:\n",
    "                best_score = score\n",
    "                best_threshold = threshold\n",
    "    elif metric == 'gmean':\n",
    "        thresholds = np.linspace(0.0, 1.0, num_thresholds + 1)\n",
    "        for threshold in thresholds:\n",
    "            y_pred_binary = (y_pred_proba >= threshold).astype(int)\n",
    "            # Calculate True Positives, False Positives, True Negatives, False Negatives\n",
    "            tp = np.sum((y_val == 1) & (y_pred_binary == 1))\n",
    "            fn = np.sum((y_val == 1) & (y_pred_binary == 0))\n",
    "            tn = np.sum((y_val == 0) & (y_pred_binary == 0))\n",
    "            fp = np.sum((y_val == 0) & (y_pred_binary == 1))\n",
    "\n",
    "            sensitivity = tp / (tp + fn) if (tp + fn) > 0 else 0\n",
    "            specificity = tn / (tn + fp) if (tn + fp) > 0 else 0\n",
    "            score = np.sqrt(sensitivity * specificity)\n",
    "\n",
    "            if score > best_score:\n",
    "                best_score = score\n",
    "                best_threshold = threshold\n",
    "    elif metric == 'pr_curve':\n",
    "        # Use precision-recall curve to find the best threshold\n",
    "        precision, recall, thresholds_pr = precision_recall_curve(y_val, y_pred_proba)\n",
    "        # Calculate F1 score for each threshold from the PR curve\n",
    "        f1_scores_pr = (2 * precision[:-1] * recall[:-1]) / (precision[:-1] + recall[:-1] + 1e-9) # Add epsilon\n",
    "\n",
    "        if len(f1_scores_pr) > 0:\n",
    "            best_idx = np.argmax(f1_scores_pr)\n",
    "            best_score = f1_scores_pr[best_idx]\n",
    "            best_threshold = thresholds_pr[best_idx]\n",
    "        else:\n",
    "            print(\"Warning: Precision-recall curve did not yield valid F1 scores. Falling back to 0.5 threshold.\")\n",
    "            y_pred_binary_fallback = (y_pred_proba >= 0.5).astype(int)\n",
    "            best_score = f1_score(y_val, y_pred_binary_fallback)\n",
    "            best_threshold = 0.5\n",
    "    elif metric == 'roc_curve':\n",
    "        # Use ROC curve to find the best threshold (Youden's J statistic)\n",
    "        fpr, tpr, thresholds_roc = roc_curve(y_val, y_pred_proba)\n",
    "        youden_j = tpr - fpr # Youden's J statistic\n",
    "        \n",
    "        if len(youden_j) > 0:\n",
    "            best_idx = np.argmax(youden_j)\n",
    "            best_score = youden_j[best_idx] # Store Youden's J as the score\n",
    "            best_threshold = thresholds_roc[best_idx]\n",
    "            # Handle cases where threshold might be > 1 (occurs if all predictions are 0)\n",
    "            if best_threshold > 1.0:\n",
    "                 best_threshold = 1.0\n",
    "        else:\n",
    "            # Fallback if roc_curve doesn't yield scores\n",
    "            print(\"Warning: ROC curve did not yield valid Youden's J scores. Falling back to 0.5 threshold.\")\n",
    "            y_pred_binary_fallback = (y_pred_proba >= 0.5).astype(int)\n",
    "            # For consistency, calculate F1 if ROC fails, or decide on a default Youden's J\n",
    "            tp = np.sum((y_val == 1) & (y_pred_binary_fallback == 1))\n",
    "            fn = np.sum((y_val == 1) & (y_pred_binary_fallback == 0))\n",
    "            tn = np.sum((y_val == 0) & (y_pred_binary_fallback == 0))\n",
    "            fp = np.sum((y_val == 0) & (y_pred_binary_fallback == 1))\n",
    "            sensitivity = tp / (tp + fn) if (tp + fn) > 0 else 0\n",
    "            specificity = tn / (tn + fp) if (tn + fp) > 0 else 0\n",
    "            best_score = sensitivity + specificity -1\n",
    "            best_threshold = 0.5\n",
    "\n",
    "    else:\n",
    "        raise ValueError(f\"Unsupported metric: {metric}. Choose from 'f1', 'gmean', 'pr_curve', or 'roc_curve'.\")\n",
    "\n",
    "    return best_threshold, best_score"
   ],
   "id": "3025a2e8952cdf65",
   "outputs": [],
   "execution_count": 79
  },
  {
   "metadata": {
    "ExecuteTime": {
     "end_time": "2025-06-02T12:31:45.788233Z",
     "start_time": "2025-06-02T12:31:45.661717Z"
    }
   },
   "cell_type": "code",
   "source": "estimate_best_threshold(model, train_X[50_000:], train_y[50_000:])",
   "id": "4733dd156b2c5731",
   "outputs": [
    {
     "data": {
      "text/plain": [
       "(np.float64(0.22), 0.2564102564102564)"
      ]
     },
     "execution_count": 80,
     "metadata": {},
     "output_type": "execute_result"
    }
   ],
   "execution_count": 80
  },
  {
   "metadata": {
    "ExecuteTime": {
     "end_time": "2025-06-02T12:32:37.915033Z",
     "start_time": "2025-06-02T12:32:37.517941Z"
    }
   },
   "cell_type": "code",
   "source": [
    "\n",
    "from matplotlib import pyplot as plt\n",
    "from sklearn.metrics import confusion_matrix, ConfusionMatrixDisplay\n",
    "\n",
    "predictions = model.predict_proba(test_X)[:,-1]>.22\n",
    "cm = confusion_matrix(test_y, predictions, labels=model.classes_)\n",
    "disp = ConfusionMatrixDisplay(confusion_matrix=cm,\n",
    "                              display_labels=model.classes_)\n",
    "disp.plot()\n",
    "plt.show()"
   ],
   "id": "5b8d2544b413502c",
   "outputs": [
    {
     "data": {
      "text/plain": [
       "<Figure size 640x480 with 2 Axes>"
      ],
      "image/png": "[encoded data removed]"
     },
     "metadata": {},
     "output_type": "display_data"
    }
   ],
   "execution_count": 84
  },
  {
   "metadata": {
    "ExecuteTime": {
     "end_time": "2025-06-02T08:17:24.681131Z",
     "start_time": "2025-06-02T08:17:10.167191Z"
    }
   },
   "cell_type": "code",
   "source": [
    "# import numpy as np\n",
    "# from annoy import AnnoyIndex\n",
    "# import time\n",
    "# import random\n",
    "# \n",
    "# # 1. Define Parameters\n",
    "# dimension = 5000\n",
    "# num_vectors = 10000\n",
    "# num_queries = 5\n",
    "# k = 3\n",
    "# metric = 'angular' # 'angular' for cosine similarity, 'euclidean', 'manhattan'\n",
    "# \n",
    "# print(f\"Vector Dimension: {dimension}\")\n",
    "# print(f\"Number of Database Vectors: {num_vectors}\")\n",
    "# print(f\"Metric: {metric}\\n\")\n",
    "# \n",
    "# # 2. Generate Random Database Vectors\n",
    "# print(\"Generating database vectors...\")\n",
    "# np.random.seed(42)\n",
    "# database_vectors = train_X\n",
    "# \n",
    "# # 4. Build the Annoy Index\n",
    "# print(f\"\\nBuilding Annoy index (metric: {metric})...\")\n",
    "# annoy_index = AnnoyIndex(train_X.shape[-1], metric)\n",
    "# start_time = time.time()\n",
    "# for i, vec in enumerate(database_vectors):\n",
    "#     annoy_index.add_item(i, vec)\n",
    "# \n",
    "# # Build the index (n_trees affects accuracy and build time)\n",
    "# # More trees generally means better accuracy but longer build time and larger index.\n",
    "# annoy_index.build(n_trees=20) # Adjust n_trees as needed\n",
    "# end_time = time.time()\n",
    "# print(f\"Index built in {end_time - start_time:.4f} seconds.\")\n",
    "# \n",
    "# # Optionally, save and load the index\n",
    "# # annoy_index.save('my_index.ann')\n",
    "# # loaded_index = AnnoyIndex(dimension, metric)\n",
    "# # loaded_index.load('my_index.ann')\n",
    "# # annoy_index = loaded_index # Use the loaded index\n"
   ],
   "id": "170e9a6b9f29d5a",
   "outputs": [
    {
     "name": "stdout",
     "output_type": "stream",
     "text": [
      "Vector Dimension: 5000\n",
      "Number of Database Vectors: 10000\n",
      "Metric: angular\n",
      "\n",
      "Generating database vectors...\n",
      "\n",
      "Building Annoy index (metric: angular)...\n",
      "Index built in 14.4463 seconds.\n"
     ]
    }
   ],
   "execution_count": 16
  },
  {
   "metadata": {
    "ExecuteTime": {
     "end_time": "2025-06-02T08:24:47.118141Z",
     "start_time": "2025-06-02T08:17:37.073955Z"
    }
   },
   "cell_type": "code",
   "source": [
    "# # 3. Generate Random Query Vectors\n",
    "# print(\"\\nGenerating query vectors...\")\n",
    "# query_vectors = train_X[:30000]\n",
    "# \n",
    "# # 5. Perform the Search\n",
    "# print(f\"\\nSearching for {k} nearest neighbors ...\")\n",
    "# search_results = []\n",
    "# start_time = time.time()\n",
    "# for q_vec in query_vectors:\n",
    "#     # search_k: Number of nodes to inspect during search. -1 means default (n_trees * k).\n",
    "#     # Higher search_k gives more accuracy but is slower.\n",
    "#     indices, distances = annoy_index.get_nns_by_vector(q_vec, k, search_k=-1, include_distances=True)\n",
    "#     search_results.append((indices, distances))\n",
    "# end_time = time.time()\n",
    "# print(f\"Search completed in {end_time - start_time:.4f} seconds.\")"
   ],
   "id": "43e366b712aa5dc2",
   "outputs": [
    {
     "name": "stdout",
     "output_type": "stream",
     "text": [
      "\n",
      "Generating query vectors...\n",
      "\n",
      "Searching for 3 nearest neighbors for 5 queries...\n",
      "Search completed in 430.0262 seconds.\n"
     ]
    }
   ],
   "execution_count": 17
  },
  {
   "metadata": {},
   "cell_type": "code",
   "outputs": [],
   "execution_count": null,
   "source": "",
   "id": "4271f3d71a181778"
  }
 ],
 "metadata": {
  "kernelspec": {
   "display_name": "Python 3",
   "language": "python",
   "name": "python3"
  },
  "language_info": {
   "codemirror_mode": {
    "name": "ipython",
    "version": 2
   },
   "file_extension": ".py",
   "mimetype": "text/x-python",
   "name": "python",
   "nbconvert_exporter": "python",
   "pygments_lexer": "ipython2",
   "version": "2.7.6"
  }
 },
 "nbformat": 4,
 "nbformat_minor": 5
}
